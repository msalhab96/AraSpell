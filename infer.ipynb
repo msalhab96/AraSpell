{
 "cells": [
  {
   "cell_type": "code",
   "execution_count": 1,
   "id": "0e6dfb91",
   "metadata": {},
   "outputs": [],
   "source": [
    "from args import get_model_args, get_train_args\n",
    "import constants\n",
    "from model import get_model\n",
    "from processes import RepeatedCharsCollapsor, SpacesRemover, ValidCharsKeeper, CharsRemover, CharsNormalizer\n",
    "from processors import TextProcessor\n",
    "from tokenizer import get_tokenizer\n",
    "import torch\n",
    "from torch.nn import Module\n",
    "from torch import Tensor, BoolTensor\n",
    "from utils import load_state\n",
    "from predict import BasePredictor, GreedyPredictor\n",
    "import sys"
   ]
  },
  {
   "cell_type": "code",
   "execution_count": 2,
   "id": "719292b2",
   "metadata": {},
   "outputs": [],
   "source": [
    "processes = [\n",
    "    RepeatedCharsCollapsor(2),\n",
    "    CharsRemover(constants.ARABIC_HARAKAT),\n",
    "    CharsNormalizer(constants.NORMLIZER_MAPPER),\n",
    "    ValidCharsKeeper(constants.VALID_CHARS),\n",
    "    SpacesRemover()\n",
    "]\n",
    "processor = TextProcessor(processes)"
   ]
  },
  {
   "cell_type": "code",
   "execution_count": null,
   "id": "8b19b2af",
   "metadata": {},
   "outputs": [],
   "source": [
    "sys.argv=['']\n",
    "device = 'cuda'\n",
    "max_len = 200\n",
    "checkpoint_path = 'checkpoint_13.pt'\n",
    "args.tokenizer_path = 'tokenizer.json'\n",
    "args = get_train_args()\n",
    "tokenizer = get_tokenizer(args)\n",
    "model = get_model(\n",
    "    args, voc_size=tokenizer.vocab_size, rank=0, pad_idx=tokenizer.special_tokens.pad_id\n",
    "    )\n",
    "model.load_state_dict(load_state(checkpoint_path)[0])\n",
    "_ = model.to(device).eval()\n",
    "\n",
    "predictor = GreedyPredictor(\n",
    "    model=model,\n",
    "    tokenizer=tokenizer,\n",
    "    max_len=max_len,\n",
    "    processor=processor,\n",
    "    device=device\n",
    ")"
   ]
  },
  {
   "cell_type": "code",
   "execution_count": null,
   "id": "95f2e9cb",
   "metadata": {},
   "outputs": [],
   "source": [
    "sent = 'وسرعتها وطبقة صوتت الفنان وتجهيزز ضالآلات المستخدمة لبدء التوزيع'\n",
    "assert len(sent) <= max_len\n",
    "predictor.predict(sent)"
   ]
  }
 ],
 "metadata": {
  "kernelspec": {
   "display_name": "Python 3 (ipykernel)",
   "language": "python",
   "name": "python3"
  },
  "language_info": {
   "codemirror_mode": {
    "name": "ipython",
    "version": 3
   },
   "file_extension": ".py",
   "mimetype": "text/x-python",
   "name": "python",
   "nbconvert_exporter": "python",
   "pygments_lexer": "ipython3",
   "version": "3.10.5"
  }
 },
 "nbformat": 4,
 "nbformat_minor": 5
}
